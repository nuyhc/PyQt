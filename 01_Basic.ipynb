{
 "cells": [
  {
   "cell_type": "markdown",
   "metadata": {},
   "source": [
    "# PyQt5\n",
    "- Qt5 어플리케이션 프레임워크에 대한 파이썬 버전\n",
    "- Qt는 플랫폼 관계 없이 다양한 기능을 포함하는 C++ 라이브러리이자 개발툴\n",
    "- GPL과 상업용 라이센스 중 선택 가능\n",
    "\n",
    "# 기초 (Basic)\n",
    "### 1. 창 띄우기"
   ]
  },
  {
   "cell_type": "code",
   "execution_count": null,
   "metadata": {},
   "outputs": [],
   "source": [
    "# 창 띄우기\n",
    "import sys\n",
    "from PyQt5.QtWidgets import QApplication, QWidget # 기본적인 UI 구성 요소를 제공하는 위젯들은 `PyQt5.QtWidgets` 모듈에 포함되어 있음\n",
    "\n",
    "class MyApp(QWidget):\n",
    "    def __init__(self):\n",
    "        super().__init__()\n",
    "        self.initUI()\n",
    "    def initUI(self):\n",
    "        self.setWindowTitle(\"My First Application\")\n",
    "        self.move(300, 300) # 위젯을 스크린의 지정 픽셀 (x, y) 위치로 이동 시킴\n",
    "        self.resize(400, 200) # 위젯의 크기를 (넓이, 높이)로 수정 (픽셀)\n",
    "        self.show() # 스크린에 위제을 보여줌\n",
    "        \n",
    "if __name__ == \"__main__\":\n",
    "    app = QApplication(sys.argv)\n",
    "    ex = MyApp()\n",
    "    sys.exit(app.exec_())"
   ]
  },
  {
   "cell_type": "markdown",
   "metadata": {},
   "source": [
    "### 2. 어플리케이션 아이콘 넣기"
   ]
  },
  {
   "cell_type": "code",
   "execution_count": null,
   "metadata": {},
   "outputs": [],
   "source": [
    "# 어플리케이션 아이콘 넣기\n",
    "import sys\n",
    "from PyQt5.QtWidgets import QApplication, QWidget\n",
    "from PyQt5.QtGui import QIcon\n",
    "\n",
    "class MyApp(QWidget):\n",
    "    def __init__(self):\n",
    "        super().__init__()\n",
    "        self.initUI()\n",
    "    def initUI(self):\n",
    "        self.setWindowTitle(\"Icon\")\n",
    "        self.setWindowIcon(QIcon(\"web.png\"))\n",
    "        self.setGeometry(300, 300, 300, 200) # 창의 위치와 크기를 설정 (x, y, w, h)\n",
    "        self.show()\n",
    "        \n",
    "if __name__ == \"__main__\":\n",
    "    app = QApplication(sys.argv)\n",
    "    ex = MyApp()\n",
    "    sys.exit(app.exec_())\n"
   ]
  },
  {
   "cell_type": "markdown",
   "metadata": {},
   "source": [
    "### 3. 창 닫기"
   ]
  },
  {
   "cell_type": "code",
   "execution_count": null,
   "metadata": {},
   "outputs": [],
   "source": [
    "# 창 닫기\n",
    "import sys\n",
    "from PyQt5.QtWidgets import QApplication, QWidget, QPushButton\n",
    "from PyQt5.QtCore import QCoreApplication\n",
    "\n",
    "class MyApp(QWidget):\n",
    "    def __init__(self):\n",
    "        super().__init__()\n",
    "        self.initUI()\n",
    "    def initUI(self):\n",
    "        btn = QPushButton(\"Quit\", self) # 푸쉬 버튼 생성 (표실 텍스트, 버튼이 위치할 부모 위젯)\n",
    "        btn.move(50, 50)\n",
    "        btn.resize(btn.sizeHint())\n",
    "        btn.clicked.connect(QCoreApplication.instance().quit) # 이벤트 처리\n",
    "        \n",
    "        self.setWindowTitle(\"Quit Button\")\n",
    "        self.setGeometry(300, 300, 300, 200)\n",
    "        self.show()\n",
    "        \n",
    "if __name__ == \"__main__\":\n",
    "    app = QApplication(sys.argv)\n",
    "    ex = MyApp()\n",
    "    sys.exit(app.exec_())"
   ]
  },
  {
   "cell_type": "markdown",
   "metadata": {},
   "source": [
    "- `PyQt5`에서의 이벤트 처리는 *시그널과 슬롯* 메커니즘으로 이뤄짐\n",
    "- 버튼(btn)을 클릭하면 \"clicked\" 시그널이 만들어짐\n",
    "- instance() 메서드는 현재 인스턴스를 반환\n",
    "- \"clicked\" 시그널은 어플리케이션을 종료하는 quit() 메서드에 연결\n",
    "- 발신자(Sender)와 수신자(Receiver), 두 객체 간 커뮤니케이션이 이뤄짐"
   ]
  },
  {
   "cell_type": "markdown",
   "metadata": {},
   "source": [
    "### 4. 툴팁 나타내기\n",
    "- 툴팁은 어떤 위젯의 기능을 설명하는 등의 역할을 하는 말풍선 형태의 도움말\n",
    "- 위젯에 있는 모든 구성 요소에 대해서 툴팁(tooltip)이 나타나도록 할 수 있음"
   ]
  },
  {
   "cell_type": "code",
   "execution_count": null,
   "metadata": {},
   "outputs": [],
   "source": [
    "# 툴팁 나타내기\n",
    "import sys\n",
    "from PyQt5.QtWidgets import QApplication, QWidget, QPushButton, QToolTip\n",
    "from PyQt5.QtGui import QFont\n",
    "\n",
    "class MyApp(QWidget):\n",
    "    def __init__(self):\n",
    "        super().__init__()\n",
    "        self.initUI()\n",
    "    def initUI(self):\n",
    "        QToolTip.setFont(QFont(\"SansSerif\", 10)) # 툴팁에 사용될 폰트 설절\n",
    "        self.setToolTip(\"This is a <b>QWidget</b> widget\") # 표시될 텍스트 설정\n",
    "        \n",
    "        btn = QPushButton(\"Button\", self)\n",
    "        btn.setToolTip(\"This is a <b>QPushButton</b> widget\") # 툴팁 설정\n",
    "        btn.move(50, 50)\n",
    "        btn.resize(btn.sizeHint())\n",
    "        \n",
    "        self.setWindowTitle(\"Tooltips\")\n",
    "        self.setGeometry(300, 300, 300, 200)\n",
    "        self.show()\n",
    "        \n",
    "if __name__ == \"__main__\":\n",
    "    app = QApplication(sys.argv)\n",
    "    ex = MyApp()\n",
    "    sys.exit(app.exec_())\n",
    "        "
   ]
  },
  {
   "cell_type": "markdown",
   "metadata": {},
   "source": [
    "### 5. 상태바 만들기\n",
    "<img src=\"https://wikidocs.net/images/page/21928/mainwindowlayout.png\" width=350 height=350>  \n",
    "\n",
    "\n",
    "- 메인창(Main window)은 메뉴바, 툴바, 상태바를 갖는 전형적인 어플리케이션 창\n",
    "- 메인창은 QMenuBar, QToolBar, QDockWidget, QStatusBar를 위한 고유의 레이아웃을 갖고 있음\n",
    "- 가운데 영역에 중심 위젯(Central widget)을 위한 영역을 갖고 있음\n",
    "- QMainWindow 클래스를 이용해 메인 어플리케이션 창을 만들 수 있음\n",
    "- 상태바는 어플리케이션의 상태를 알려주기 위해 어플리케이션 하단에 위치하는 위젯\n",
    "- QStatusBar 클래스는 상태바에 표시되는 메시지가 바뀔 때 마다 `messageChanged()` 시그널을 발생 시킴"
   ]
  },
  {
   "cell_type": "code",
   "execution_count": null,
   "metadata": {},
   "outputs": [],
   "source": [
    "# 상태바 만들기\n",
    "import sys\n",
    "from PyQt5.QtWidgets import QApplication, QMainWindow\n",
    "\n",
    "class MyApp(QMainWindow):\n",
    "    def __init__(self):\n",
    "        super().__init__()\n",
    "        self.initUI()\n",
    "    def initUI(self):\n",
    "        self.statusBar().showMessage(\"Ready\") # 상태바 생성\n",
    "        self.setWindowTitle(\"Statusbar\")\n",
    "        self.setGeometry(300, 300, 300, 200)\n",
    "        self.show()\n",
    "        \n",
    "if __name__==\"__main__\":\n",
    "    app = QApplication(sys.argv)\n",
    "    ex = MyApp()\n",
    "    sys.exit(app.exec_())"
   ]
  },
  {
   "cell_type": "markdown",
   "metadata": {},
   "source": [
    "- 상태바에 텍스트를 출력하기 위해 `showMessage` (텍스트가 표시되는 시간 설정 가능)\n",
    "- 텍스트가 사라지게 하고 싶으면 `clearMessage`"
   ]
  },
  {
   "cell_type": "markdown",
   "metadata": {},
   "source": [
    "### 6. 메뉴바 만들기\n",
    "- 다양한 명령어들의 모음이 메뉴바에 위치함\n",
    "- Mac OS에서는, `menubar.setNativeMenuBar(False)`를 추가해줘야 함"
   ]
  },
  {
   "cell_type": "code",
   "execution_count": null,
   "metadata": {},
   "outputs": [],
   "source": [
    "# 메뉴바 만들기\n",
    "import sys\n",
    "from PyQt5.QtWidgets import QApplication, QMainWindow, QAction, qApp\n",
    "from PyQt5.QtGui import QIcon\n",
    "\n",
    "class MyApp(QMainWindow):\n",
    "    def __init__(self):\n",
    "        super().__init__()\n",
    "        self.initUI()\n",
    "    def initUI(self):\n",
    "        exitAction = QAction(QIcon(\"exit.png\"), \"Exit\", self) # 아이콘과 라벨을 갖는 동작(action)을 만들고,\n",
    "        exitAction.setShortcut(\"Ctrl+Q\") # 동작의 숏컷을 정의\n",
    "        exitAction.setStatusTip(\"Exit application\") # 마우스를 올렸을 때, 상태바에 나타날 상태팁 설정\n",
    "        exitAction.triggered.connect(qApp.quit)\n",
    "        \n",
    "        self.statusBar()\n",
    "        \n",
    "        menubar = self.menuBar() # 메뉴바 생성\n",
    "        menubar.setNativeMenuBar(False)\n",
    "        filemenu = menubar.addMenu(\"&File\") # F 앞 &는 간편하게 숏컷을 등록해줌 -> alt + f F&ile로 쓰면, alt + i\n",
    "        filemenu.addAction(exitAction)\n",
    "        \n",
    "        self.setWindowTitle(\"Menubar\")\n",
    "        self.setGeometry(300, 300, 300, 200)\n",
    "        self.show()\n",
    "        \n",
    "if __name__==\"__main__\":\n",
    "    app = QApplication(sys.argv)\n",
    "    ex = MyApp()\n",
    "    sys.exit(app.exec_())\n",
    "        "
   ]
  },
  {
   "cell_type": "markdown",
   "metadata": {},
   "source": [
    "### 7. 툴바 만들기\n",
    "- 메뉴(menu)가 어플리케이션에서 사용되는 모든 명령의 모음이라면, 툴바(toolbar)는 자주 사용하는 명령들을 더 편리하게 사용할 수 있도록 해 줌"
   ]
  },
  {
   "cell_type": "code",
   "execution_count": null,
   "metadata": {},
   "outputs": [],
   "source": [
    "# 툴바 만들기\n",
    "import sys\n",
    "from PyQt5.QtWidgets import QApplication, QMainWindow, QAction, qApp\n",
    "from PyQt5.QtGui import QIcon\n",
    "\n",
    "class MyApp(QMainWindow):\n",
    "    def __init__(self):\n",
    "        super().__init__()\n",
    "        self.initUI()\n",
    "    def initUI(self):\n",
    "        exitAction = QAction(QIcon(\"./exit.png\"), \"Exit\", self)\n",
    "        exitAction.setShortcut(\"Ctrl+Q\")\n",
    "        exitAction.setStatusTip(\"Exit application\")\n",
    "        exitAction.triggered.connect(qApp.quit) # 클릭시 발생되는 시그널을 메서드에 연결\n",
    "        \n",
    "        self.statusBar()\n",
    "        \n",
    "        self.toolbar = self.addToolBar(\"Exit\") # 툴바를 만들고\n",
    "        self.toolbar.addAction(exitAction) # 툴바에 동작을 추가\n",
    "        \n",
    "        self.setWindowTitle(\"Toolbar\")\n",
    "        self.setGeometry(300, 300, 300, 200)\n",
    "        self.show()\n",
    "        \n",
    "if __name__==\"__main__\":\n",
    "    app = QApplication(sys.argv)\n",
    "    ex = MyApp()\n",
    "    sys.exit(app.exec_())"
   ]
  },
  {
   "cell_type": "markdown",
   "metadata": {},
   "source": [
    "### 8. 창을 화면의 가운데 띄우기"
   ]
  },
  {
   "cell_type": "code",
   "execution_count": null,
   "metadata": {},
   "outputs": [],
   "source": [
    "# 창을 화면 가운데로\n",
    "import sys\n",
    "from PyQt5.QtWidgets import QApplication, QWidget, QDesktopWidget\n",
    "\n",
    "class MyApp(QWidget):\n",
    "    def __init__(self):\n",
    "        super().__init__()\n",
    "        self.initUI()\n",
    "    def initUI(self):\n",
    "        self.setWindowTitle(\"Centering\")\n",
    "        self.resize(500, 300)\n",
    "        self.center()\n",
    "        self.show()\n",
    "    def center(self): # 창이 화면 가운데엩 위치하게 해주는 메서드\n",
    "        qr = self.frameGeometry() # 창의 위치와 크기 정보를 가져옴\n",
    "        cp = QDesktopWidget().availableGeometry().center() # 사용하는 모니터 화면의 가운데 위치를 파악\n",
    "        qr.moveCenter(cp) # 창의 직사각형 위치를 화면의 중심의 위치로 이동\n",
    "        self.move(qr.topLeft()) # 현재 창을, 화면의 중심으로 이동했던 직사각형(qr)의 위치로 이동 시킴\n",
    "        \n",
    "if __name__==\"__main__\":\n",
    "    app = QApplication(sys.argv)\n",
    "    ex = MyApp()\n",
    "    sys.exit(app.exec_())"
   ]
  },
  {
   "cell_type": "markdown",
   "metadata": {},
   "source": [
    "### 9. 날짜와 시간 표시하기\n",
    "- QtCore 모듈의 QDate, QTime, QDateTime 클래스를 이용해서 어플리케이션에 날짜와 시간을 표시할 수 있음\n",
    "\n",
    "#### 날짜 표시하기 (QDate)"
   ]
  },
  {
   "cell_type": "code",
   "execution_count": 1,
   "metadata": {},
   "outputs": [
    {
     "name": "stdout",
     "output_type": "stream",
     "text": [
      "목 11월 3 2022\n"
     ]
    }
   ],
   "source": [
    "from PyQt5.QtCore import QDate\n",
    "\n",
    "now = QDate.currentDate()\n",
    "print(now.toString())"
   ]
  },
  {
   "cell_type": "code",
   "execution_count": 3,
   "metadata": {},
   "outputs": [
    {
     "name": "stdout",
     "output_type": "stream",
     "text": [
      "3.11.22\n",
      "03.11.2022\n",
      "목.11월.YYYY\n",
      "2022-11-03\n",
      "2022년 11월 3일\n"
     ]
    }
   ],
   "source": [
    "# 날짜 형식 설정\n",
    "from PyQt5.QtCore import QDate, Qt\n",
    "\n",
    "now = QDate.currentDate()\n",
    "print(now.toString(\"d.M.yy\"))\n",
    "print(now.toString(\"dd.MM.yyyy\"))\n",
    "print(now.toString(\"ddd.MMM.YYYY\"))\n",
    "print(now.toString(Qt.ISODate))\n",
    "print(now.toString(Qt.DefaultLocaleLongDate))"
   ]
  },
  {
   "cell_type": "markdown",
   "metadata": {},
   "source": [
    "#### 시간 표시하기 (QTime)"
   ]
  },
  {
   "cell_type": "code",
   "execution_count": 4,
   "metadata": {},
   "outputs": [
    {
     "name": "stdout",
     "output_type": "stream",
     "text": [
      "17:01:25\n"
     ]
    }
   ],
   "source": [
    "from PyQt5.QtCore import QTime\n",
    "\n",
    "time = QTime.currentTime()\n",
    "print(time.toString())"
   ]
  },
  {
   "cell_type": "code",
   "execution_count": 6,
   "metadata": {},
   "outputs": [
    {
     "name": "stdout",
     "output_type": "stream",
     "text": [
      "17.3.45\n",
      "17.03.45\n",
      "17.03.45.364\n",
      "오후 5시 3분 45초 GMT+9\n",
      "오후 5:03\n"
     ]
    }
   ],
   "source": [
    "# 시간 형식 설정하기\n",
    "from PyQt5.QtCore import QTime, Qt\n",
    "\n",
    "time = QTime.currentTime()\n",
    "print(time.toString(\"h.m.s\"))\n",
    "print(time.toString(\"hh.mm.ss\"))\n",
    "print(time.toString(\"hh.mm.ss.zzz\"))\n",
    "print(time.toString(Qt.DefaultLocaleLongDate))\n",
    "print(time.toString(Qt.DefaultLocaleShortDate))"
   ]
  },
  {
   "cell_type": "markdown",
   "metadata": {},
   "source": [
    "#### 날짜와 시간 표시하기 (QDateTime)"
   ]
  },
  {
   "cell_type": "code",
   "execution_count": 7,
   "metadata": {},
   "outputs": [
    {
     "name": "stdout",
     "output_type": "stream",
     "text": [
      "3.11.22 17:06:27\n",
      "03.11.2022, 17:06:27\n",
      "2022년 11월 3일 오후 5시 6분 27초 KST\n",
      "2022. 11. 3. 오후 5:06\n"
     ]
    }
   ],
   "source": [
    "from PyQt5.QtCore import QDateTime, Qt\n",
    "\n",
    "datetime = QDateTime.currentDateTime()\n",
    "print(datetime.toString(\"d.M.yy hh:mm:ss\"))\n",
    "print(datetime.toString(\"dd.MM.yyyy, hh:mm:ss\"))\n",
    "print(datetime.toString(Qt.DefaultLocaleLongDate))\n",
    "print(datetime.toString(Qt.DefaultLocaleShortDate))"
   ]
  },
  {
   "cell_type": "markdown",
   "metadata": {},
   "source": [
    "#### 상태표시줄에 날짜 표시하기"
   ]
  },
  {
   "cell_type": "code",
   "execution_count": null,
   "metadata": {},
   "outputs": [],
   "source": [
    "import sys\n",
    "from PyQt5.QtWidgets import QApplication, QMainWindow\n",
    "from PyQt5.QtCore import QDate, Qt\n",
    "\n",
    "class MyApp(QMainWindow):\n",
    "    def __init__(self):\n",
    "        super().__init__()\n",
    "        self.date = QDate.currentDate()\n",
    "        self.initUI()\n",
    "    def initUI(self):\n",
    "        self.statusBar().showMessage(self.date.toString(Qt.DefaultLocaleLongDate))\n",
    "        \n",
    "        self.setWindowTitle(\"Date\")\n",
    "        self.setGeometry(300, 300, 400, 200)\n",
    "        self.show()\n",
    "        \n",
    "if __name__==\"__main__\":\n",
    "    app = QApplication(sys.argv)\n",
    "    ex = MyApp()\n",
    "    sys.exit(app.exec_())"
   ]
  },
  {
   "cell_type": "markdown",
   "metadata": {},
   "source": [
    "### 10. 스타일 꾸미기\n",
    "- `setStyleSheet()`을 이용하면 어플리케이션의 다양한 구성요소들의 스타일을 자유롭게 꾸밀 수 있음"
   ]
  },
  {
   "cell_type": "code",
   "execution_count": 8,
   "metadata": {},
   "outputs": [],
   "source": [
    "# 스타일 꾸미기\n",
    "# 세 개의 라벨 위젯을 여러 스타일로 꾸밈\n",
    "import sys\n",
    "from PyQt5.QtWidgets import QApplication, QWidget, QLabel, QVBoxLayout\n",
    "\n",
    "class MyApp(QWidget):\n",
    "    def __init__(self):\n",
    "        super().__init__()\n",
    "        self.initUI()\n",
    "    def initUI(self):\n",
    "        # 라벨 위젯 생성\n",
    "        lbl_red = QLabel(\"Red\")\n",
    "        lbl_green = QLabel(\"Green\")\n",
    "        lbl_blue = QLabel(\"Blue\")\n",
    "        \n",
    "        lbl_red.setStyleSheet(\n",
    "            \"color : red;\"\n",
    "            \"border-style : solid;\"\n",
    "            \"border-width : 2px;\"\n",
    "            \"border-color : #FA8072;\"\n",
    "            \"border-radius : 3px\"\n",
    "        )\n",
    "        lbl_green.setStyleSheet(\n",
    "            \"color : green;\"\n",
    "            \"background-color : #7FFFD4\"\n",
    "        )\n",
    "        lbl_blue.setStyleSheet(\n",
    "            \"color : blue;\"\n",
    "            \"background-color : #87CEFA;\"\n",
    "            \"border-style : dashed;\"\n",
    "            \"border-width : 3px;\"\n",
    "            \"border-color : #1E90FF\"\n",
    "        )\n",
    "        \n",
    "        vbox = QVBoxLayout() # 수직 박스 레이아웃 -> 세 개의 라벨 위젯을 수직으로 배치\n",
    "        vbox.addWidget(lbl_red)\n",
    "        vbox.addWidget(lbl_green)\n",
    "        vbox.addWidget(lbl_blue)\n",
    "        \n",
    "        self.setLayout(vbox)\n",
    "        \n",
    "        self.setWindowTitle(\"Stylesheet\")\n",
    "        self.setGeometry(300, 300, 300, 200)\n",
    "        self.show()\n",
    "        \n",
    "if __name__==\"__main__\":\n",
    "    app = QApplication(sys.argv)\n",
    "    ex = MyApp()\n",
    "    sys.exit(app.exec_())"
   ]
  },
  {
   "cell_type": "code",
   "execution_count": null,
   "metadata": {},
   "outputs": [],
   "source": []
  }
 ],
 "metadata": {
  "kernelspec": {
   "display_name": "Python 3.8.13 ('Deep')",
   "language": "python",
   "name": "python3"
  },
  "language_info": {
   "codemirror_mode": {
    "name": "ipython",
    "version": 3
   },
   "file_extension": ".py",
   "mimetype": "text/x-python",
   "name": "python",
   "nbconvert_exporter": "python",
   "pygments_lexer": "ipython3",
   "version": "3.8.13"
  },
  "orig_nbformat": 4,
  "vscode": {
   "interpreter": {
    "hash": "2687cd7e348f8b276a3d3877a91949627292e389c8a2a645f881205e3ac80541"
   }
  }
 },
 "nbformat": 4,
 "nbformat_minor": 2
}
