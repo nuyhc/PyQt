{
 "cells": [
  {
   "cell_type": "markdown",
   "metadata": {},
   "source": [
    "# Layout\n",
    "- 레이아웃은 어플리케이션 창에 위젯들을 배치하는 방식\n",
    "- 레이아웃 관리는 GUI 프로그래밍에서 매우 중요한 요소\n",
    "- PyQt5 배치 방식\n",
    "  - 절대적 배치\n",
    "  - 박스 레이아웃\n",
    "  - 그리드 레이아웃\n",
    "\n",
    "### 1. 절대적 배치 (Absolute Positioning)\n",
    "- 각 위젯의 위치와 크기를 픽셀 단위로 설정해서 배치\n",
    "- 다음과 같은 제약 사항이 있음\n",
    "  - 창의 크기를 조절해도 위젯의 크기와 위치는 변하지 않음\n",
    "  - 다양한 플랫폼에서 어플리케이션이 다르게 보일 수 있음\n",
    "  - 어플리케이션의 폰트를 바꾸면 레이아웃이 망가질 수 있음\n",
    "  - 레이아웃을 바꾸고 싶다면 완전히 새로 고쳐야 함"
   ]
  },
  {
   "cell_type": "code",
   "execution_count": null,
   "metadata": {},
   "outputs": [],
   "source": [
    "# 두 개의 라벨과 두 개의 푸시버튼 위젯을 절대적 배치 방식으로 배치\n",
    "# 절대적 배치\n",
    "import sys\n",
    "from PyQt5.QtWidgets import QApplication, QWidget, QLabel, QPushButton\n",
    "\n",
    "class MyApp(QWidget):\n",
    "    def __init__(self):\n",
    "        super().__init__()\n",
    "        self.initUI()\n",
    "    def initUI(self):\n",
    "        label1 = QLabel(\"Label1\", self)\n",
    "        label1.move(20, 20)\n",
    "        label2 = QLabel(\"Label2\", self)\n",
    "        label2.move(20, 60)\n",
    "        \n",
    "        btn1 = QPushButton(\"Button1\", self)\n",
    "        btn1.move(80, 13)\n",
    "        btn2 = QPushButton(\"Button2\", self)\n",
    "        btn2.move(80, 53)\n",
    "        \n",
    "        self.setWindowTitle(\"Absolute Positioning\")\n",
    "        self.setGeometry(300, 300, 400, 200)\n",
    "        self.show()\n",
    "        \n",
    "if __name__==\"__main__\":\n",
    "    app = QApplication(sys.argv)\n",
    "    ex = MyApp()\n",
    "    sys.exit(app.exec_())\n",
    "        "
   ]
  },
  {
   "cell_type": "markdown",
   "metadata": {},
   "source": [
    "좌표계는,  \n",
    "- x: 왼쪽 -> 오른쪽\n",
    "- y: 위쪽 -> 아래쪽\n",
    "\n",
    "으로 갈수록 커짐"
   ]
  },
  {
   "cell_type": "markdown",
   "metadata": {},
   "source": [
    "### 2. 박스 레이아웃\n",
    "- 훨씬 유연하고 실용적인 레이아웃이 가능함\n",
    "- `QHBoxLayout`, `QVBoxLayout`은 여러 위젯을 수평으로 정렬하는 레이아웃 클래스\n",
    "- 위 함수들의 생성자는, 수평, 수직의 박스를 하나 만듬\n",
    "  - 다른 레이아웃 박스를 넣을 수도 있고 위젯도 배치 가능\n",
    "- 필요한 공간을 만들기 위해 `addStretch()` 메서드를 사용하고, `stretch factor`를 조절"
   ]
  },
  {
   "cell_type": "code",
   "execution_count": null,
   "metadata": {},
   "outputs": [],
   "source": [
    "# 박스 레이아웃\n",
    "import sys\n",
    "from PyQt5.QtWidgets import QApplication, QWidget, QPushButton, QHBoxLayout, QVBoxLayout\n",
    "\n",
    "class MyApp(QWidget):\n",
    "    def __init__(self):\n",
    "        super().__init__()\n",
    "        self.initUI()\n",
    "    def initUI(self):\n",
    "        # 두 개의 버튼 생성\n",
    "        okButton = QPushButton(\"OK\")\n",
    "        cancelButton = QPushButton(\"Cancel\")\n",
    "        \n",
    "        hbox = QHBoxLayout() # 수평 박스를 만들고\n",
    "        hbox.addStretch(1) # 빈 공간\n",
    "        hbox.addWidget(okButton) # 버튼1\n",
    "        hbox.addWidget(cancelButton) # 버튼2\n",
    "        hbox.addStretch(1) # 빈 공간\n",
    "        \n",
    "        vbox = QVBoxLayout() # 수직 박스 생성\n",
    "        vbox.addStretch(3)\n",
    "        vbox.addLayout(hbox)\n",
    "        vbox.addStretch(1)\n",
    "        \n",
    "        self.setLayout(vbox)\n",
    "        \n",
    "        self.setWindowTitle(\"Box Layout\")\n",
    "        self.setGeometry(300, 300, 300, 200)\n",
    "        self.show()\n",
    "        \n",
    "if __name__==\"__main__\":\n",
    "    app = QApplication(sys.argv)\n",
    "    ex = MyApp()\n",
    "    sys.exit(app.exec_())"
   ]
  },
  {
   "cell_type": "markdown",
   "metadata": {},
   "source": [
    "### 3. 그리드 레이아웃 (Grid Layout)\n",
    "- 가장 일반적인 레이아웃 클래스\n",
    "- 위젯의 공간을 행(row)과 열(col)로 구분\n",
    "- `QGridLayout` 클래스 사용"
   ]
  },
  {
   "cell_type": "code",
   "execution_count": null,
   "metadata": {},
   "outputs": [],
   "source": [
    "# 그리드 레이아웃\n",
    "import sys\n",
    "from PyQt5.QtWidgets import (QApplication, QWidget, QGridLayout, QLabel, QLineEdit, QTextEdit)\n",
    "\n",
    "class MyApp(QWidget):\n",
    "    def __init__(self):\n",
    "        super().__init__()\n",
    "        self.initUI()\n",
    "    def initUI(self):\n",
    "        grid = QGridLayout() # 레이아웃 생성\n",
    "        self.setLayout(grid) # 어플리케이션의 레이아웃으로 설정\n",
    "        \n",
    "        grid.addWidget(QLabel(\"Title:\"), 0, 0) # 행, 열\n",
    "        grid.addWidget(QLabel(\"Autor:\"), 1, 0)\n",
    "        grid.addWidget(QLabel(\"Review\"), 2, 0)\n",
    "        \n",
    "        grid.addWidget(QLineEdit(), 0, 1)\n",
    "        grid.addWidget(QLineEdit(), 1, 1)\n",
    "        grid.addWidget(QTextEdit(), 2, 1)\n",
    "        \n",
    "        self.setWindowTitle(\"QGridLayout\")\n",
    "        self.setGeometry(300, 300, 300, 200)\n",
    "        self.show()\n",
    "        \n",
    "if __name__==\"__main__\":\n",
    "    app = QApplication(sys.argv)\n",
    "    ex = MyApp()\n",
    "    sys.exit(app.exec_())"
   ]
  }
 ],
 "metadata": {
  "kernelspec": {
   "display_name": "Python 3.8.13 ('Deep')",
   "language": "python",
   "name": "python3"
  },
  "language_info": {
   "name": "python",
   "version": "3.8.13"
  },
  "orig_nbformat": 4,
  "vscode": {
   "interpreter": {
    "hash": "2687cd7e348f8b276a3d3877a91949627292e389c8a2a645f881205e3ac80541"
   }
  }
 },
 "nbformat": 4,
 "nbformat_minor": 2
}
