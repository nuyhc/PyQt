{
 "cells": [
  {
   "cell_type": "markdown",
   "metadata": {},
   "source": [
    "# 다이얼로그 (Dialog)\n",
    "- 대화창이라고 부르며, GUI 프로그래밍에서 없어서는 안될 요소\n",
    "- 사용자가 어플리케이션 안에서 어플리케이션과 대화하는데 사용\n",
    "- 사용자가 데이터를 입력, 수정하거나, 설정을 변경하는 등의 작업을 하는데 사용\n",
    "\n",
    "### QInputDialog\n",
    "- 입력 다이얼로그는 사용자가 간단한 값을 입력할 때 사용\n",
    "- 입력값은 숫자, 문자열, 리스트에서 선택한 항목 등이 될 수 있음\n",
    "- 입력값의 형태에 따라 유용한 함수가 존재\n",
    "  - getText()\n",
    "  - getMultiLineText()\n",
    "  - getInt()\n",
    "  - getDouble()\n",
    "  - getItem() "
   ]
  },
  {
   "cell_type": "code",
   "execution_count": null,
   "metadata": {},
   "outputs": [],
   "source": [
    "import sys\n",
    "from PyQt5.QtWidgets import (QApplication, QWidget, QPushButton, QLineEdit, QInputDialog)\n",
    "\n",
    "class MyApp(QWidget):\n",
    "    def __init__(self):\n",
    "        super().__init__()\n",
    "        self.initUI()\n",
    "    def initUI(self):\n",
    "        self.btn = QPushButton(\"Dialog\", self)\n",
    "        self.btn.move(30, 30)\n",
    "        self.btn.clicked.connect(self.showDialog)\n",
    "        \n",
    "        self.le = QLineEdit(self)\n",
    "        self.le.move(120, 35)\n",
    "        \n",
    "        self.setWindowTitle(\"Input dialog\")\n",
    "        self.setGeometry(300, 300, 300, 200)\n",
    "        self.show()\n",
    "    def showDialog(self):\n",
    "        text, ok = QInputDialog.getText(self, \"Input Dialog\", \"Enter your name: \") # 입력 대화창 생성 / 두번째 매개변수 -> 대화창의 타이틀, 세번째 매개변수 -> 대화창 안에 보여질 메시지\n",
    "        if ok:\n",
    "            self.le.setText(str(text))\n",
    "            \n",
    "if __name__==\"__main__\":\n",
    "    app = QApplication(sys.argv)\n",
    "    ex = MyApp()\n",
    "    sys.exit(app.exec_())"
   ]
  },
  {
   "cell_type": "markdown",
   "metadata": {},
   "source": [
    "### QColorDialog\n",
    "- 색상을 선택할 수 있는 다이얼로그"
   ]
  },
  {
   "cell_type": "code",
   "execution_count": null,
   "metadata": {},
   "outputs": [],
   "source": [
    "import sys\n",
    "from PyQt5.QtWidgets import QApplication, QWidget, QPushButton, QFrame, QColorDialog\n",
    "from PyQt5.QtGui import QColor\n",
    "\n",
    "class MyApp(QWidget):\n",
    "    def __init__(self):\n",
    "        super().__init__()\n",
    "        self.initUI()\n",
    "    def initUI(self):\n",
    "        col = QColor(0, 0, 0)\n",
    "\n",
    "        self.btn = QPushButton('Dialog', self)\n",
    "        self.btn.move(30, 30)\n",
    "        self.btn.clicked.connect(self.showDialog)\n",
    "\n",
    "        self.frm = QFrame(self)\n",
    "        self.frm.setStyleSheet('QWidget { background-color: %s }' % col.name())\n",
    "        self.frm.setGeometry(130, 35, 100, 100)\n",
    "\n",
    "        self.setWindowTitle('Color Dialog')\n",
    "        self.setGeometry(300, 300, 250, 180)\n",
    "        self.show()\n",
    "    def showDialog(self):\n",
    "        col = QColorDialog.getColor()\n",
    "\n",
    "        if col.isValid():\n",
    "            self.frm.setStyleSheet('QWidget { background-color: %s }' % col.name())\n",
    "\n",
    "if __name__ == '__main__':\n",
    "    app = QApplication(sys.argv)\n",
    "    ex = MyApp()\n",
    "    sys.exit(app.exec_())"
   ]
  },
  {
   "cell_type": "markdown",
   "metadata": {},
   "source": [
    "### QFontDialog\n",
    "- 폰트를 선택할 수 있게 해주는 다이얼로그"
   ]
  },
  {
   "cell_type": "code",
   "execution_count": null,
   "metadata": {},
   "outputs": [],
   "source": [
    "pass"
   ]
  },
  {
   "cell_type": "markdown",
   "metadata": {},
   "source": [
    "### QFileDialog\n",
    "- 사용자가 파일 또는 경로를 선택할 수 있도록 하는 다이얼로그"
   ]
  },
  {
   "cell_type": "code",
   "execution_count": null,
   "metadata": {},
   "outputs": [],
   "source": [
    "import sys\n",
    "from PyQt5.QtWidgets import QApplication, QMainWindow, QTextEdit, QAction, QFileDialog\n",
    "from PyQt5.QtGui import QIcon\n",
    "\n",
    "class MyApp(QMainWindow):\n",
    "    def __init__(self):\n",
    "        super().__init__()\n",
    "        self.initUI()\n",
    "    def initUI(self):\n",
    "        self.textEdit = QTextEdit()\n",
    "        self.setCentralWidget(self.textEdit)\n",
    "        self.statusBar()\n",
    "        \n",
    "        openFile = QAction(QIcon(\"open.png\"), \"Open\", self)\n",
    "        openFile.setShortcut(\"Ctrl+O\")\n",
    "        openFile.setStatusTip(\"Open New File\")\n",
    "        openFile.triggered.connect(self.showDialog)\n",
    "        \n",
    "        menubar = self.menuBar()\n",
    "        menubar.setNativeMenuBar(False)\n",
    "        fileMenu = menubar.addMenu(\"&File\")\n",
    "        fileMenu.addAction(openFile)\n",
    "        \n",
    "        self.setWindowTitle(\"File Dialog\")\n",
    "        self.setGeometry(300, 300, 300, 200)\n",
    "        self.show()\n",
    "    def showDialog(self):\n",
    "        fname = QFileDialog.getOpenFileName(self, \"Open file\", \"./\") # 세 번째 매개변수로 기본 위치를 설정 가능\n",
    "        \n",
    "        if fname[0]:\n",
    "            f = open(fname[0], \"r\")\n",
    "            with f:\n",
    "                data = f.read()\n",
    "                self.textEdit.setText(data)\n",
    "\n",
    "if __name__==\"__main__\":\n",
    "    app = QApplication(sys.argv)\n",
    "    ex = MyApp()\n",
    "    sys.exit(app.exec_())"
   ]
  },
  {
   "cell_type": "markdown",
   "metadata": {},
   "source": [
    "### QMessageBox\n",
    "- 사용자에게 정보를 제공하거나 질문과 대답을 할 수 있는 대화창을 제공\n",
    "- 흔히 어떤 동작에 대해 확인이 필요한 경우"
   ]
  },
  {
   "cell_type": "code",
   "execution_count": null,
   "metadata": {},
   "outputs": [],
   "source": [
    "import sys\n",
    "from PyQt5.QtWidgets import QApplication, QWidget, QMessageBox\n",
    "\n",
    "class MyApp(QWidget):\n",
    "    def __init__(self):\n",
    "        super().__init__()\n",
    "        self.initUI()\n",
    "    def initUI(self):\n",
    "        self.setWindowTitle(\"QMessageBox\")\n",
    "        self.setGeometry(300, 300, 200, 200)\n",
    "        self.show()\n",
    "    def closeEvent(self, event):\n",
    "        reply = QMessageBox.question(self, \"Message\", \"Are you sure to quit?\",\n",
    "                                     QMessageBox.Yes | QMessageBox.No, QMessageBox.No)\n",
    "        if reply==QMessageBox.Yes:\n",
    "            event.accept()\n",
    "        else:\n",
    "            event.ignore()\n",
    "            \n",
    "if __name__==\"__main__\":\n",
    "    app = QApplication(sys.argv)\n",
    "    ex = MyApp()\n",
    "    sys.exit(app.exec_())"
   ]
  }
 ],
 "metadata": {
  "kernelspec": {
   "display_name": "Python 3.8.13 ('Deep')",
   "language": "python",
   "name": "python3"
  },
  "language_info": {
   "name": "python",
   "version": "3.8.13"
  },
  "orig_nbformat": 4,
  "vscode": {
   "interpreter": {
    "hash": "2687cd7e348f8b276a3d3877a91949627292e389c8a2a645f881205e3ac80541"
   }
  }
 },
 "nbformat": 4,
 "nbformat_minor": 2
}
