{
 "cells": [
  {
   "cell_type": "markdown",
   "metadata": {},
   "source": [
    "# 시그널과 슬롯(Signal & Slot)\n",
    "- 이벤트 처리에 있어 시그널과 슬롯이라는 독특한 메커니즘을 사용\n",
    "\n",
    "### 연결하기"
   ]
  },
  {
   "cell_type": "code",
   "execution_count": null,
   "metadata": {},
   "outputs": [],
   "source": [
    "# 다이얼 위젯으로 조절한 값을 화면에 출력하는 프로그램\n",
    "# 다이얼 값이 변할 때 발생하는 시그널이 LCD 화면에 숫자를 표시하는 슬록과 연결\n",
    "import sys\n",
    "from PyQt5.QtWidgets import QApplication, QWidget, QLCDNumber, QDial, QVBoxLayout\n",
    "\n",
    "class MyApp(QWidget):\n",
    "    def __init__(self):\n",
    "        super().__init__()\n",
    "        self.initUI()\n",
    "    def initUI(self):\n",
    "        lcd = QLCDNumber(self)\n",
    "        dial = QDial(self)\n",
    "        \n",
    "        vbox = QVBoxLayout()\n",
    "        vbox.addWidget(lcd)\n",
    "        vbox.addWidget(dial)\n",
    "        self.setLayout(vbox)\n",
    "        \n",
    "        dial.valueChanged.connect(lcd.display)\n",
    "        \n",
    "        self.setWindowTitle(\"Signal and Slot\")\n",
    "        self.setGeometry(300, 300, 200, 200)\n",
    "        self.show()\n",
    "\n",
    "if __name__==\"__main__\":\n",
    "    app = QApplication(sys.argv)\n",
    "    ex = MyApp()\n",
    "    sys.exit(app.exec_())"
   ]
  },
  {
   "cell_type": "markdown",
   "metadata": {},
   "source": [
    "슬롯은 시그널에 어떻게 반응할지 구현한 메서드\n",
    "\n",
    "### 이벤트 핸들러 만들기\n",
    "- 이벤트(시그널) 처리를 할 때 사용되는 함수를 이벤트핸들러(슬롯)라고 함"
   ]
  },
  {
   "cell_type": "code",
   "execution_count": null,
   "metadata": {},
   "outputs": [],
   "source": [
    "# 버튼 클릭(시그널이 발생)했을 때, 창의 크기가 바뀌도록하는 슬롯 정의\n",
    "import sys\n",
    "from PyQt5.QtWidgets import (QApplication, QWidget, QLCDNumber, QDial, QPushButton, QVBoxLayout, QHBoxLayout)\n",
    "\n",
    "class MyApp(QWidget):\n",
    "    def __init__(self):\n",
    "        super().__init__()\n",
    "        self.initUI()\n",
    "    def initUI(self):\n",
    "        lcd = QLCDNumber(self)\n",
    "        dial = QDial(self)\n",
    "        btn1 = QPushButton(\"Big\", self)\n",
    "        btn2 = QPushButton(\"Small\", self)\n",
    "        \n",
    "        hbox = QHBoxLayout()\n",
    "        hbox.addWidget(btn1)\n",
    "        hbox.addWidget(btn2)\n",
    "        \n",
    "        vbox = QVBoxLayout()\n",
    "        vbox.addWidget(lcd)\n",
    "        vbox.addWidget(dial)\n",
    "        vbox.addLayout(hbox)\n",
    "        self.setLayout(vbox)\n",
    "        \n",
    "        dial.valueChanged.connect(lcd.display)\n",
    "        btn1.clicked.connect(self.resizeBig)\n",
    "        btn2.clicked.connect(self.resizeSmall)\n",
    "        \n",
    "        self.setWindowTitle(\"Signal and Slot\")\n",
    "        self.setGeometry(200, 200, 200, 250)\n",
    "        self.show()\n",
    "    def resizeBig(self):\n",
    "        self.resize(400, 500)\n",
    "    def resizeSmall(self):\n",
    "        self.resize(200, 250)\n",
    "        \n",
    "if __name__==\"__main__\":\n",
    "    app = QApplication(sys.argv)\n",
    "    ex = MyApp()\n",
    "    sys.exit(app.exec_())"
   ]
  },
  {
   "cell_type": "markdown",
   "metadata": {},
   "source": [
    "### 이벤트 핸들러 재구성하기\n",
    "- 자주 쓰이는 이벤트 핸들러는 이미 만들어져 있는 경우가 많음\n",
    "\n",
    "| 이벤트 핸들러 | 설명 |\n",
    "| :--- | :--- |\n",
    "| keyPressEvent | 키보드를 눌렀을 때 동작 |\n",
    "| keyReleaseEvent | 키보드를 눌렀다가 뗼 때 동작 |\n",
    "| mouseDoubleClickEvent | 마우스를 더블클릭할 때 동작 |\n",
    "| mouseMoveEvent | 마우스를 움직일 때 동작 |\n",
    "| mousePressEvent | 마우스를 누를 때 동작 |\n",
    "| mouseReleaseEvent | 마우스를 눌렀다가 뗄 때 동작 |\n",
    "| moveEvent | 위젯이 이동할 때 동작 |\n",
    "| resizeEvent | 위젯의 크기를 변경할 때 동작 |"
   ]
  },
  {
   "cell_type": "code",
   "execution_count": null,
   "metadata": {},
   "outputs": [],
   "source": [
    "# keyPressEvent 이벤트 핸들러를 수정해, 특정 키를 눌렀을 떄 위젯을 종료하거나 최대화, 보통 크기로 조절하는 기능 구현\n",
    "import sys\n",
    "from PyQt5.QtCore import Qt\n",
    "from PyQt5.QtWidgets import QApplication, QWidget\n",
    "\n",
    "class MyApp(QWidget):\n",
    "    def __init__(self):\n",
    "        super().__init__()\n",
    "        self.initUI()\n",
    "    def initUI(self):\n",
    "        self.setWindowTitle('Reimplementing event handler')\n",
    "        self.setGeometry(300, 300, 300, 200)\n",
    "        self.show()\n",
    "    def keyPressEvent(self, e):\n",
    "        if e.key()==Qt.Key_Escape:\n",
    "            self.close()\n",
    "        elif e.key()==Qt.Key_F:\n",
    "            self.showFullScreen()\n",
    "        elif e.key()==Qt.Key_N:\n",
    "            self.showNormal()\n",
    "            \n",
    "if __name__==\"__main__\":\n",
    "    app = QApplication(sys.argv)\n",
    "    ex = MyApp()\n",
    "    sys.exit(app.exec_())"
   ]
  },
  {
   "cell_type": "code",
   "execution_count": null,
   "metadata": {},
   "outputs": [],
   "source": [
    "# mouseMoveEvent를 이용해, 마우스의 위치를 트래킹해서 출력\n",
    "import sys\n",
    "from PyQt5.QtWidgets import QApplication, QWidget, QLabel\n",
    "\n",
    "class MyApp(QWidget):\n",
    "    def __init__(self):\n",
    "        super().__init__()\n",
    "        self.initUI()\n",
    "    def initUI(self):\n",
    "        x, y = 0, 0\n",
    "        \n",
    "        self.text = f\"x: {x}, y: {y}\"\n",
    "        self.label = QLabel(self.text, self)\n",
    "        self.label.move(20, 20)\n",
    "        \n",
    "        self.setMouseTracking(True)\n",
    "        \n",
    "        self.setWindowTitle(\"Reimplementing event handler\")\n",
    "        self.setGeometry(300, 300, 300, 200)\n",
    "        self.show()\n",
    "    def mouseMoveEvent(self, e):\n",
    "        x, y = e.x(), e.y()\n",
    "        text = f\"x: {x}, y: {y}\"\n",
    "        self.label.setText(text)\n",
    "        self.label.adjustSize()\n",
    "        \n",
    "if __name__==\"__main__\":\n",
    "    app = QApplication(sys.argv)\n",
    "    ex = MyApp()\n",
    "    sys.exit(app.exec_())"
   ]
  },
  {
   "cell_type": "markdown",
   "metadata": {},
   "source": [
    "### 사용자 정의 시그널\n",
    "- 지정된 시그널 말고, 새로 원하는 시그널을 만들어서 사용 가능"
   ]
  },
  {
   "cell_type": "code",
   "execution_count": null,
   "metadata": {},
   "outputs": [],
   "source": [
    "import sys\n",
    "from PyQt5.QtCore import pyqtSignal, QObject\n",
    "from PyQt5.QtWidgets import QApplication, QMainWindow\n",
    "\n",
    "\n",
    "class Communicate(QObject):\n",
    "    closeApp = pyqtSignal()\n",
    "\n",
    "class MyApp(QMainWindow):\n",
    "    def __init__(self):\n",
    "        super().__init__()\n",
    "        self.initUI()\n",
    "    def initUI(self):\n",
    "        self.c = Communicate()\n",
    "        self.c.closeApp.connect(self.close)\n",
    "\n",
    "        self.setWindowTitle('Emitting Signal')\n",
    "        self.setGeometry(300, 300, 300, 200)\n",
    "        self.show()\n",
    "    def mousePressEvent(self, e):\n",
    "        self.c.closeApp.emit()\n",
    "\n",
    "if __name__ == '__main__':\n",
    "    app = QApplication(sys.argv)\n",
    "    ex = MyApp()\n",
    "    sys.exit(app.exec_())"
   ]
  }
 ],
 "metadata": {
  "kernelspec": {
   "display_name": "Python 3.8.13 ('Deep')",
   "language": "python",
   "name": "python3"
  },
  "language_info": {
   "name": "python",
   "version": "3.8.13"
  },
  "orig_nbformat": 4,
  "vscode": {
   "interpreter": {
    "hash": "2687cd7e348f8b276a3d3877a91949627292e389c8a2a645f881205e3ac80541"
   }
  }
 },
 "nbformat": 4,
 "nbformat_minor": 2
}
